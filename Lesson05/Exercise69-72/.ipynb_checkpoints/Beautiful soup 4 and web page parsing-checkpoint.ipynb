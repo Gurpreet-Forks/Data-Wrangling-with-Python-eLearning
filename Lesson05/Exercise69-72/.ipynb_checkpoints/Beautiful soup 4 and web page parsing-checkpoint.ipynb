{
 "cells": [
  {
   "cell_type": "markdown",
   "metadata": {},
   "source": [
    "# Introduction to Beautifulsoup4 and web page parsing"
   ]
  },
  {
   "cell_type": "markdown",
   "metadata": {},
   "source": [
    "### Exercise 1 : Read a HTML file (from disk) using bs4"
   ]
  },
  {
   "cell_type": "code",
   "execution_count": 1,
   "metadata": {},
   "outputs": [],
   "source": [
    "from bs4 import BeautifulSoup"
   ]
  },
  {
   "cell_type": "code",
   "execution_count": 2,
   "metadata": {},
   "outputs": [
    {
     "name": "stdout",
     "output_type": "stream",
     "text": [
      "<class 'bs4.BeautifulSoup'>\n"
     ]
    },
    {
     "name": "stderr",
     "output_type": "stream",
     "text": [
      "C:\\Users\\ROCHIT\\Anaconda3\\lib\\site-packages\\bs4\\__init__.py:181: UserWarning: No parser was explicitly specified, so I'm using the best available HTML parser for this system (\"lxml\"). This usually isn't a problem, but if you run this code on another system, or in a different virtual environment, it may use a different parser and behave differently.\n",
      "\n",
      "The code that caused this warning is on line 193 of the file C:\\Users\\ROCHIT\\Anaconda3\\lib\\runpy.py. To get rid of this warning, change code that looks like this:\n",
      "\n",
      " BeautifulSoup(YOUR_MARKUP})\n",
      "\n",
      "to this:\n",
      "\n",
      " BeautifulSoup(YOUR_MARKUP, \"lxml\")\n",
      "\n",
      "  markup_type=markup_type))\n"
     ]
    }
   ],
   "source": [
    "with open(\"test.html\", \"r\") as fd:\n",
    "    soup = BeautifulSoup(fd)\n",
    "    print(type(soup))"
   ]
  },
  {
   "cell_type": "code",
   "execution_count": 3,
   "metadata": {},
   "outputs": [
    {
     "name": "stdout",
     "output_type": "stream",
     "text": [
      "<class 'list'>\n",
      "[<html><body><h1>Lorem ipsum dolor sit amet consectetuer adipiscing \n",
      "elit</h1>\n",
      "<p>Lorem ipsum dolor sit amet, consectetuer adipiscing \n",
      "elit. Aenean commodo ligula eget dolor. Aenean massa \n",
      "<strong>strong</strong>. Cum sociis natoque penatibus \n",
      "et magnis dis parturient montes, nascetur ridiculus \n",
      "mus. Donec quam felis, ultricies nec, pellentesque \n",
      "eu, pretium quis, sem. Nulla consequat massa quis \n",
      "enim. Donec pede justo, fringilla vel, aliquet nec, \n",
      "vulputate eget, arcu. In enim justo, rhoncus ut, \n",
      "imperdiet a, venenatis vitae, justo. Nullam dictum \n",
      "felis eu pede <a class=\"external ext\" href=\"#\">link</a> \n",
      "mollis pretium. Integer tincidunt. Cras dapibus. \n",
      "Vivamus elementum semper nisi. Aenean vulputate \n",
      "eleifend tellus. Aenean leo ligula, porttitor eu, \n",
      "consequat vitae, eleifend ac, enim. Aliquam lorem ante, \n",
      "dapibus in, viverra quis, feugiat a, tellus. Phasellus \n",
      "viverra nulla ut metus varius laoreet. Quisque rutrum. \n",
      "Aenean imperdiet. Etiam ultricies nisi vel augue. \n",
      "Curabitur ullamcorper ultricies nisi.</p>\n",
      "<h1>Lorem ipsum dolor sit amet consectetuer adipiscing \n",
      "elit</h1>\n",
      "<h2>Aenean commodo ligula eget dolor aenean massa</h2>\n",
      "<p>Lorem ipsum dolor sit amet, consectetuer adipiscing \n",
      "elit. Aenean commodo ligula eget dolor. Aenean massa. \n",
      "Cum sociis natoque penatibus et magnis dis parturient \n",
      "montes, nascetur ridiculus mus. Donec quam felis, \n",
      "ultricies nec, pellentesque eu, pretium quis, sem.</p>\n",
      "<h2>Aenean commodo ligula eget dolor aenean massa</h2>\n",
      "<p>Lorem ipsum dolor sit amet, consectetuer adipiscing \n",
      "elit. Aenean commodo ligula eget dolor. Aenean massa. \n",
      "Cum sociis natoque penatibus et magnis dis parturient \n",
      "montes, nascetur ridiculus mus. Donec quam felis, \n",
      "ultricies nec, pellentesque eu, pretium quis, sem.</p>\n",
      "<ul>\n",
      "<li><a href=\"https://en.wikipedia.org/wiki/Entropy_(information_theory)\">Information Entropy</a></li>\n",
      "<li><a href=\"http://www.gutenberg.org/browse/scores/top\">Top books in Gutenberg</a></li>\n",
      "<li><a href=\"https://www.imdb.com/chart/top\">Top 250 movies in IMDB</a></li>\n",
      "</ul>\n",
      "<p>Lorem ipsum dolor sit amet, consectetuer adipiscing \n",
      "elit. Aenean commodo ligula eget dolor. Aenean massa. \n",
      "Cum sociis natoque penatibus et magnis dis parturient \n",
      "montes, nascetur ridiculus mus. Donec quam felis, \n",
      "ultricies nec, pellentesque eu, pretium quis, sem.</p>\n",
      "<form action=\"#\" method=\"post\">\n",
      "<fieldset>\n",
      "<label for=\"name\">Name:</label>\n",
      "<input id=\"name\" placeholder=\"Enter your \n",
      "full name\" type=\"text\"/>\n",
      "<label for=\"email\">Email:</label>\n",
      "<input id=\"email\" placeholder=\"Enter \n",
      "your email address\" type=\"email\"/>\n",
      "<label for=\"message\">Message:</label>\n",
      "<textarea id=\"message\" placeholder=\"What's on your \n",
      "mind?\"></textarea>\n",
      "<input type=\"submit\" value=\"Send message\"/>\n",
      "</fieldset>\n",
      "</form>\n",
      "<p>Lorem ipsum dolor sit amet, consectetuer adipiscing \n",
      "elit. Aenean commodo ligula eget dolor. Aenean massa. \n",
      "Cum sociis natoque penatibus et magnis dis parturient \n",
      "montes, nascetur ridiculus mus. Donec quam felis, \n",
      "ultricies nec, pellentesque eu, pretium quis, sem.</p>\n",
      "<table class=\"data\">\n",
      "<tr>\n",
      "<th>Entry Header 1</th>\n",
      "<th>Entry Header 2</th>\n",
      "<th>Entry Header 3</th>\n",
      "<th>Entry Header 4</th>\n",
      "</tr>\n",
      "<tr>\n",
      "<td>Entry First Line 1</td>\n",
      "<td>Entry First Line 2</td>\n",
      "<td>Entry First Line 3</td>\n",
      "<td>Entry First Line 4</td>\n",
      "</tr>\n",
      "<tr>\n",
      "<td>Entry Line 1</td>\n",
      "<td>Entry Line 2</td>\n",
      "<td>Entry Line 3</td>\n",
      "<td>Entry Line 4</td>\n",
      "</tr>\n",
      "<tr>\n",
      "<td>Entry Last Line 1</td>\n",
      "<td>Entry Last Line 2</td>\n",
      "<td>Entry Last Line 3</td>\n",
      "<td>Entry Last Line 4</td>\n",
      "</tr>\n",
      "</table>\n",
      "<p>Lorem ipsum dolor sit amet, consectetuer adipiscing \n",
      "elit. Aenean commodo ligula eget dolor. Aenean massa. \n",
      "Cum sociis natoque penatibus et magnis dis parturient \n",
      "montes, nascetur ridiculus mus. Donec quam felis, \n",
      "ultricies nec, pellentesque eu, pretium quis, sem.</p>\n",
      "</body></html>]\n"
     ]
    },
    {
     "name": "stderr",
     "output_type": "stream",
     "text": [
      "C:\\Users\\ROCHIT\\Anaconda3\\lib\\site-packages\\bs4\\__init__.py:181: UserWarning: No parser was explicitly specified, so I'm using the best available HTML parser for this system (\"lxml\"). This usually isn't a problem, but if you run this code on another system, or in a different virtual environment, it may use a different parser and behave differently.\n",
      "\n",
      "The code that caused this warning is on line 193 of the file C:\\Users\\ROCHIT\\Anaconda3\\lib\\runpy.py. To get rid of this warning, change code that looks like this:\n",
      "\n",
      " BeautifulSoup(YOUR_MARKUP})\n",
      "\n",
      "to this:\n",
      "\n",
      " BeautifulSoup(YOUR_MARKUP, \"lxml\")\n",
      "\n",
      "  markup_type=markup_type))\n"
     ]
    }
   ],
   "source": [
    "with open(\"test.html\", \"r\") as fd:\n",
    "    soup = BeautifulSoup(fd)\n",
    "    print(type(soup.contents))\n",
    "    print(soup.contents)"
   ]
  },
  {
   "cell_type": "markdown",
   "metadata": {},
   "source": [
    "### Exercise 2 : Read a particular tag (And its contents)"
   ]
  },
  {
   "cell_type": "code",
   "execution_count": 4,
   "metadata": {},
   "outputs": [
    {
     "name": "stdout",
     "output_type": "stream",
     "text": [
      "<p>Lorem ipsum dolor sit amet, consectetuer adipiscing \n",
      "elit. Aenean commodo ligula eget dolor. Aenean massa \n",
      "<strong>strong</strong>. Cum sociis natoque penatibus \n",
      "et magnis dis parturient montes, nascetur ridiculus \n",
      "mus. Donec quam felis, ultricies nec, pellentesque \n",
      "eu, pretium quis, sem. Nulla consequat massa quis \n",
      "enim. Donec pede justo, fringilla vel, aliquet nec, \n",
      "vulputate eget, arcu. In enim justo, rhoncus ut, \n",
      "imperdiet a, venenatis vitae, justo. Nullam dictum \n",
      "felis eu pede <a class=\"external ext\" href=\"#\">link</a> \n",
      "mollis pretium. Integer tincidunt. Cras dapibus. \n",
      "Vivamus elementum semper nisi. Aenean vulputate \n",
      "eleifend tellus. Aenean leo ligula, porttitor eu, \n",
      "consequat vitae, eleifend ac, enim. Aliquam lorem ante, \n",
      "dapibus in, viverra quis, feugiat a, tellus. Phasellus \n",
      "viverra nulla ut metus varius laoreet. Quisque rutrum. \n",
      "Aenean imperdiet. Etiam ultricies nisi vel augue. \n",
      "Curabitur ullamcorper ultricies nisi.</p>\n"
     ]
    },
    {
     "name": "stderr",
     "output_type": "stream",
     "text": [
      "C:\\Users\\ROCHIT\\Anaconda3\\lib\\site-packages\\bs4\\__init__.py:181: UserWarning: No parser was explicitly specified, so I'm using the best available HTML parser for this system (\"lxml\"). This usually isn't a problem, but if you run this code on another system, or in a different virtual environment, it may use a different parser and behave differently.\n",
      "\n",
      "The code that caused this warning is on line 193 of the file C:\\Users\\ROCHIT\\Anaconda3\\lib\\runpy.py. To get rid of this warning, change code that looks like this:\n",
      "\n",
      " BeautifulSoup(YOUR_MARKUP})\n",
      "\n",
      "to this:\n",
      "\n",
      " BeautifulSoup(YOUR_MARKUP, \"lxml\")\n",
      "\n",
      "  markup_type=markup_type))\n"
     ]
    }
   ],
   "source": [
    "with open(\"test.html\", \"r\") as fd:\n",
    "    soup = BeautifulSoup(fd)\n",
    "    print(soup.p)"
   ]
  },
  {
   "cell_type": "markdown",
   "metadata": {},
   "source": [
    "### Exercise 3 : Read all tags of the same type from the document"
   ]
  },
  {
   "cell_type": "code",
   "execution_count": 5,
   "metadata": {},
   "outputs": [
    {
     "name": "stdout",
     "output_type": "stream",
     "text": [
      "Total number of <p>  --- 6\n",
      "[<p>Lorem ipsum dolor sit amet, consectetuer adipiscing \n",
      "elit. Aenean commodo ligula eget dolor. Aenean massa \n",
      "<strong>strong</strong>. Cum sociis natoque penatibus \n",
      "et magnis dis parturient montes, nascetur ridiculus \n",
      "mus. Donec quam felis, ultricies nec, pellentesque \n",
      "eu, pretium quis, sem. Nulla consequat massa quis \n",
      "enim. Donec pede justo, fringilla vel, aliquet nec, \n",
      "vulputate eget, arcu. In enim justo, rhoncus ut, \n",
      "imperdiet a, venenatis vitae, justo. Nullam dictum \n",
      "felis eu pede <a class=\"external ext\" href=\"#\">link</a> \n",
      "mollis pretium. Integer tincidunt. Cras dapibus. \n",
      "Vivamus elementum semper nisi. Aenean vulputate \n",
      "eleifend tellus. Aenean leo ligula, porttitor eu, \n",
      "consequat vitae, eleifend ac, enim. Aliquam lorem ante, \n",
      "dapibus in, viverra quis, feugiat a, tellus. Phasellus \n",
      "viverra nulla ut metus varius laoreet. Quisque rutrum. \n",
      "Aenean imperdiet. Etiam ultricies nisi vel augue. \n",
      "Curabitur ullamcorper ultricies nisi.</p>, <p>Lorem ipsum dolor sit amet, consectetuer adipiscing \n",
      "elit. Aenean commodo ligula eget dolor. Aenean massa. \n",
      "Cum sociis natoque penatibus et magnis dis parturient \n",
      "montes, nascetur ridiculus mus. Donec quam felis, \n",
      "ultricies nec, pellentesque eu, pretium quis, sem.</p>, <p>Lorem ipsum dolor sit amet, consectetuer adipiscing \n",
      "elit. Aenean commodo ligula eget dolor. Aenean massa. \n",
      "Cum sociis natoque penatibus et magnis dis parturient \n",
      "montes, nascetur ridiculus mus. Donec quam felis, \n",
      "ultricies nec, pellentesque eu, pretium quis, sem.</p>, <p>Lorem ipsum dolor sit amet, consectetuer adipiscing \n",
      "elit. Aenean commodo ligula eget dolor. Aenean massa. \n",
      "Cum sociis natoque penatibus et magnis dis parturient \n",
      "montes, nascetur ridiculus mus. Donec quam felis, \n",
      "ultricies nec, pellentesque eu, pretium quis, sem.</p>, <p>Lorem ipsum dolor sit amet, consectetuer adipiscing \n",
      "elit. Aenean commodo ligula eget dolor. Aenean massa. \n",
      "Cum sociis natoque penatibus et magnis dis parturient \n",
      "montes, nascetur ridiculus mus. Donec quam felis, \n",
      "ultricies nec, pellentesque eu, pretium quis, sem.</p>, <p>Lorem ipsum dolor sit amet, consectetuer adipiscing \n",
      "elit. Aenean commodo ligula eget dolor. Aenean massa. \n",
      "Cum sociis natoque penatibus et magnis dis parturient \n",
      "montes, nascetur ridiculus mus. Donec quam felis, \n",
      "ultricies nec, pellentesque eu, pretium quis, sem.</p>]\n"
     ]
    },
    {
     "name": "stderr",
     "output_type": "stream",
     "text": [
      "C:\\Users\\ROCHIT\\Anaconda3\\lib\\site-packages\\bs4\\__init__.py:181: UserWarning: No parser was explicitly specified, so I'm using the best available HTML parser for this system (\"lxml\"). This usually isn't a problem, but if you run this code on another system, or in a different virtual environment, it may use a different parser and behave differently.\n",
      "\n",
      "The code that caused this warning is on line 193 of the file C:\\Users\\ROCHIT\\Anaconda3\\lib\\runpy.py. To get rid of this warning, change code that looks like this:\n",
      "\n",
      " BeautifulSoup(YOUR_MARKUP})\n",
      "\n",
      "to this:\n",
      "\n",
      " BeautifulSoup(YOUR_MARKUP, \"lxml\")\n",
      "\n",
      "  markup_type=markup_type))\n"
     ]
    }
   ],
   "source": [
    "with open(\"test.html\", \"r\") as fd:\n",
    "    soup = BeautifulSoup(fd)\n",
    "    all_ps = soup.find_all('p')\n",
    "    print(\"Total number of <p>  --- {}\".format(len(all_ps)))\n",
    "    print(all_ps)"
   ]
  },
  {
   "cell_type": "markdown",
   "metadata": {},
   "source": [
    "### Exercise 4 : What is the content under a particular tag"
   ]
  },
  {
   "cell_type": "code",
   "execution_count": 6,
   "metadata": {},
   "outputs": [
    {
     "name": "stdout",
     "output_type": "stream",
     "text": [
      "['\\n', <tr>\n",
      "<th>Entry Header 1</th>\n",
      "<th>Entry Header 2</th>\n",
      "<th>Entry Header 3</th>\n",
      "<th>Entry Header 4</th>\n",
      "</tr>, '\\n', <tr>\n",
      "<td>Entry First Line 1</td>\n",
      "<td>Entry First Line 2</td>\n",
      "<td>Entry First Line 3</td>\n",
      "<td>Entry First Line 4</td>\n",
      "</tr>, '\\n', <tr>\n",
      "<td>Entry Line 1</td>\n",
      "<td>Entry Line 2</td>\n",
      "<td>Entry Line 3</td>\n",
      "<td>Entry Line 4</td>\n",
      "</tr>, '\\n', <tr>\n",
      "<td>Entry Last Line 1</td>\n",
      "<td>Entry Last Line 2</td>\n",
      "<td>Entry Last Line 3</td>\n",
      "<td>Entry Last Line 4</td>\n",
      "</tr>, '\\n']\n"
     ]
    },
    {
     "name": "stderr",
     "output_type": "stream",
     "text": [
      "C:\\Users\\ROCHIT\\Anaconda3\\lib\\site-packages\\bs4\\__init__.py:181: UserWarning: No parser was explicitly specified, so I'm using the best available HTML parser for this system (\"lxml\"). This usually isn't a problem, but if you run this code on another system, or in a different virtual environment, it may use a different parser and behave differently.\n",
      "\n",
      "The code that caused this warning is on line 193 of the file C:\\Users\\ROCHIT\\Anaconda3\\lib\\runpy.py. To get rid of this warning, change code that looks like this:\n",
      "\n",
      " BeautifulSoup(YOUR_MARKUP})\n",
      "\n",
      "to this:\n",
      "\n",
      " BeautifulSoup(YOUR_MARKUP, \"lxml\")\n",
      "\n",
      "  markup_type=markup_type))\n"
     ]
    }
   ],
   "source": [
    "with open(\"test.html\", \"r\") as fd:\n",
    "    soup = BeautifulSoup(fd)\n",
    "    table = soup.table\n",
    "    print(table.contents)"
   ]
  },
  {
   "cell_type": "markdown",
   "metadata": {},
   "source": [
    "### Exercise 5: Using the children generator"
   ]
  },
  {
   "cell_type": "code",
   "execution_count": 7,
   "metadata": {},
   "outputs": [
    {
     "name": "stdout",
     "output_type": "stream",
     "text": [
      "\n",
      "\n",
      "*****\n",
      "<tr>\n",
      "<th>Entry Header 1</th>\n",
      "<th>Entry Header 2</th>\n",
      "<th>Entry Header 3</th>\n",
      "<th>Entry Header 4</th>\n",
      "</tr>\n",
      "*****\n",
      "\n",
      "\n",
      "*****\n",
      "<tr>\n",
      "<td>Entry First Line 1</td>\n",
      "<td>Entry First Line 2</td>\n",
      "<td>Entry First Line 3</td>\n",
      "<td>Entry First Line 4</td>\n",
      "</tr>\n",
      "*****\n",
      "\n",
      "\n",
      "*****\n",
      "<tr>\n",
      "<td>Entry Line 1</td>\n",
      "<td>Entry Line 2</td>\n",
      "<td>Entry Line 3</td>\n",
      "<td>Entry Line 4</td>\n",
      "</tr>\n",
      "*****\n",
      "\n",
      "\n",
      "*****\n",
      "<tr>\n",
      "<td>Entry Last Line 1</td>\n",
      "<td>Entry Last Line 2</td>\n",
      "<td>Entry Last Line 3</td>\n",
      "<td>Entry Last Line 4</td>\n",
      "</tr>\n",
      "*****\n",
      "\n",
      "\n",
      "*****\n"
     ]
    },
    {
     "name": "stderr",
     "output_type": "stream",
     "text": [
      "C:\\Users\\ROCHIT\\Anaconda3\\lib\\site-packages\\bs4\\__init__.py:181: UserWarning: No parser was explicitly specified, so I'm using the best available HTML parser for this system (\"lxml\"). This usually isn't a problem, but if you run this code on another system, or in a different virtual environment, it may use a different parser and behave differently.\n",
      "\n",
      "The code that caused this warning is on line 193 of the file C:\\Users\\ROCHIT\\Anaconda3\\lib\\runpy.py. To get rid of this warning, change code that looks like this:\n",
      "\n",
      " BeautifulSoup(YOUR_MARKUP})\n",
      "\n",
      "to this:\n",
      "\n",
      " BeautifulSoup(YOUR_MARKUP, \"lxml\")\n",
      "\n",
      "  markup_type=markup_type))\n"
     ]
    }
   ],
   "source": [
    "with open(\"test.html\", \"r\") as fd:\n",
    "    soup = BeautifulSoup(fd)\n",
    "    table = soup.table\n",
    "    for child in table.children:\n",
    "        print(child)\n",
    "        print(\"*****\")"
   ]
  },
  {
   "cell_type": "markdown",
   "metadata": {},
   "source": [
    "### Exercise 6: Using the `descendants` generator"
   ]
  },
  {
   "cell_type": "code",
   "execution_count": 8,
   "metadata": {},
   "outputs": [
    {
     "name": "stdout",
     "output_type": "stream",
     "text": [
      "9 61\n",
      "\n",
      "\n",
      "****\n",
      "<tr>\n",
      "<th>Entry Header 1</th>\n",
      "<th>Entry Header 2</th>\n",
      "<th>Entry Header 3</th>\n",
      "<th>Entry Header 4</th>\n",
      "</tr>\n",
      "****\n",
      "\n",
      "\n",
      "****\n",
      "<th>Entry Header 1</th>\n",
      "****\n",
      "Entry Header 1\n",
      "****\n",
      "\n",
      "\n",
      "****\n",
      "<th>Entry Header 2</th>\n",
      "****\n",
      "Entry Header 2\n",
      "****\n",
      "\n",
      "\n",
      "****\n",
      "<th>Entry Header 3</th>\n",
      "****\n",
      "Entry Header 3\n",
      "****\n",
      "\n",
      "\n",
      "****\n",
      "<th>Entry Header 4</th>\n",
      "****\n",
      "Entry Header 4\n",
      "****\n",
      "\n",
      "\n",
      "****\n",
      "\n",
      "\n",
      "****\n",
      "<tr>\n",
      "<td>Entry First Line 1</td>\n",
      "<td>Entry First Line 2</td>\n",
      "<td>Entry First Line 3</td>\n",
      "<td>Entry First Line 4</td>\n",
      "</tr>\n",
      "****\n",
      "\n",
      "\n",
      "****\n",
      "<td>Entry First Line 1</td>\n",
      "****\n",
      "Entry First Line 1\n",
      "****\n",
      "\n",
      "\n",
      "****\n",
      "<td>Entry First Line 2</td>\n",
      "****\n",
      "Entry First Line 2\n",
      "****\n",
      "\n",
      "\n",
      "****\n",
      "<td>Entry First Line 3</td>\n",
      "****\n",
      "Entry First Line 3\n",
      "****\n",
      "\n",
      "\n",
      "****\n",
      "<td>Entry First Line 4</td>\n",
      "****\n",
      "Entry First Line 4\n",
      "****\n",
      "\n",
      "\n",
      "****\n",
      "\n",
      "\n",
      "****\n",
      "<tr>\n",
      "<td>Entry Line 1</td>\n",
      "<td>Entry Line 2</td>\n",
      "<td>Entry Line 3</td>\n",
      "<td>Entry Line 4</td>\n",
      "</tr>\n",
      "****\n",
      "\n",
      "\n",
      "****\n",
      "<td>Entry Line 1</td>\n",
      "****\n",
      "Entry Line 1\n",
      "****\n",
      "\n",
      "\n",
      "****\n",
      "<td>Entry Line 2</td>\n",
      "****\n",
      "Entry Line 2\n",
      "****\n",
      "\n",
      "\n",
      "****\n",
      "<td>Entry Line 3</td>\n",
      "****\n",
      "Entry Line 3\n",
      "****\n",
      "\n",
      "\n",
      "****\n",
      "<td>Entry Line 4</td>\n",
      "****\n",
      "Entry Line 4\n",
      "****\n",
      "\n",
      "\n",
      "****\n",
      "\n",
      "\n",
      "****\n",
      "<tr>\n",
      "<td>Entry Last Line 1</td>\n",
      "<td>Entry Last Line 2</td>\n",
      "<td>Entry Last Line 3</td>\n",
      "<td>Entry Last Line 4</td>\n",
      "</tr>\n",
      "****\n",
      "\n",
      "\n",
      "****\n",
      "<td>Entry Last Line 1</td>\n",
      "****\n",
      "Entry Last Line 1\n",
      "****\n",
      "\n",
      "\n",
      "****\n",
      "<td>Entry Last Line 2</td>\n",
      "****\n",
      "Entry Last Line 2\n",
      "****\n",
      "\n",
      "\n",
      "****\n",
      "<td>Entry Last Line 3</td>\n",
      "****\n",
      "Entry Last Line 3\n",
      "****\n",
      "\n",
      "\n",
      "****\n",
      "<td>Entry Last Line 4</td>\n",
      "****\n",
      "Entry Last Line 4\n",
      "****\n",
      "\n",
      "\n",
      "****\n",
      "\n",
      "\n",
      "****\n"
     ]
    },
    {
     "name": "stderr",
     "output_type": "stream",
     "text": [
      "C:\\Users\\ROCHIT\\Anaconda3\\lib\\site-packages\\bs4\\__init__.py:181: UserWarning: No parser was explicitly specified, so I'm using the best available HTML parser for this system (\"lxml\"). This usually isn't a problem, but if you run this code on another system, or in a different virtual environment, it may use a different parser and behave differently.\n",
      "\n",
      "The code that caused this warning is on line 193 of the file C:\\Users\\ROCHIT\\Anaconda3\\lib\\runpy.py. To get rid of this warning, change code that looks like this:\n",
      "\n",
      " BeautifulSoup(YOUR_MARKUP})\n",
      "\n",
      "to this:\n",
      "\n",
      " BeautifulSoup(YOUR_MARKUP, \"lxml\")\n",
      "\n",
      "  markup_type=markup_type))\n"
     ]
    }
   ],
   "source": [
    "with open(\"test.html\", \"r\") as fd:\n",
    "    soup = BeautifulSoup(fd)\n",
    "    table = soup.table\n",
    "    children = table.children\n",
    "    des = table.descendants\n",
    "    print(len(list(children)), len(list(des)))\n",
    "    for d in table.descendants:\n",
    "        print(d)\n",
    "        print(\"****\")"
   ]
  },
  {
   "cell_type": "markdown",
   "metadata": {},
   "source": [
    "### Exercise 7 (Using findAll and getting the `tr`s, and finally getting it all in a pandas DF)"
   ]
  },
  {
   "cell_type": "code",
   "execution_count": 9,
   "metadata": {},
   "outputs": [
    {
     "name": "stdout",
     "output_type": "stream",
     "text": [
      "Data is a <class 'bs4.element.ResultSet'> and 4 items long\n"
     ]
    },
    {
     "name": "stderr",
     "output_type": "stream",
     "text": [
      "C:\\Users\\ROCHIT\\Anaconda3\\lib\\site-packages\\bs4\\__init__.py:181: UserWarning: No parser was explicitly specified, so I'm using the best available HTML parser for this system (\"lxml\"). This usually isn't a problem, but if you run this code on another system, or in a different virtual environment, it may use a different parser and behave differently.\n",
      "\n",
      "The code that caused this warning is on line 193 of the file C:\\Users\\ROCHIT\\Anaconda3\\lib\\runpy.py. To get rid of this warning, change code that looks like this:\n",
      "\n",
      " BeautifulSoup(YOUR_MARKUP})\n",
      "\n",
      "to this:\n",
      "\n",
      " BeautifulSoup(YOUR_MARKUP, \"lxml\")\n",
      "\n",
      "  markup_type=markup_type))\n"
     ]
    },
    {
     "data": {
      "text/html": [
       "<div>\n",
       "<style>\n",
       "    .dataframe thead tr:only-child th {\n",
       "        text-align: right;\n",
       "    }\n",
       "\n",
       "    .dataframe thead th {\n",
       "        text-align: left;\n",
       "    }\n",
       "\n",
       "    .dataframe tbody tr th {\n",
       "        vertical-align: top;\n",
       "    }\n",
       "</style>\n",
       "<table border=\"1\" class=\"dataframe\">\n",
       "  <thead>\n",
       "    <tr style=\"text-align: right;\">\n",
       "      <th></th>\n",
       "      <th>Entry Header 1</th>\n",
       "      <th>Entry Header 2</th>\n",
       "      <th>Entry Header 3</th>\n",
       "      <th>Entry Header 4</th>\n",
       "    </tr>\n",
       "  </thead>\n",
       "  <tbody>\n",
       "    <tr>\n",
       "      <th>0</th>\n",
       "      <td>Entry First Line 1</td>\n",
       "      <td>Entry First Line 2</td>\n",
       "      <td>Entry First Line 3</td>\n",
       "      <td>Entry First Line 4</td>\n",
       "    </tr>\n",
       "    <tr>\n",
       "      <th>1</th>\n",
       "      <td>Entry Line 1</td>\n",
       "      <td>Entry Line 2</td>\n",
       "      <td>Entry Line 3</td>\n",
       "      <td>Entry Line 4</td>\n",
       "    </tr>\n",
       "    <tr>\n",
       "      <th>2</th>\n",
       "      <td>Entry Last Line 1</td>\n",
       "      <td>Entry Last Line 2</td>\n",
       "      <td>Entry Last Line 3</td>\n",
       "      <td>Entry Last Line 4</td>\n",
       "    </tr>\n",
       "  </tbody>\n",
       "</table>\n",
       "</div>"
      ],
      "text/plain": [
       "       Entry Header 1      Entry Header 2      Entry Header 3  \\\n",
       "0  Entry First Line 1  Entry First Line 2  Entry First Line 3   \n",
       "1        Entry Line 1        Entry Line 2        Entry Line 3   \n",
       "2   Entry Last Line 1   Entry Last Line 2   Entry Last Line 3   \n",
       "\n",
       "       Entry Header 4  \n",
       "0  Entry First Line 4  \n",
       "1        Entry Line 4  \n",
       "2   Entry Last Line 4  "
      ]
     },
     "execution_count": 9,
     "metadata": {},
     "output_type": "execute_result"
    }
   ],
   "source": [
    "import pandas as pd\n",
    "\n",
    "fd = open(\"test.html\", \"r\")\n",
    "soup = BeautifulSoup(fd)\n",
    "data = soup.findAll('tr')\n",
    "print(\"Data is a {} and {} items long\".format(type(data), len(data)))\n",
    "\n",
    "data_without_header = data[1:]\n",
    "headers = data[0]\n",
    "\n",
    "col_headers = [th.getText() for th in headers.findAll('th')]\n",
    "df_data = [[td.getText() for td in tr.findAll('td')] for tr in data_without_header] # nested list-comp for 2d struct\n",
    "\n",
    "fd.close()\n",
    "\n",
    "df = pd.DataFrame(df_data, columns=col_headers)\n",
    "df.head()"
   ]
  },
  {
   "cell_type": "markdown",
   "metadata": {},
   "source": [
    "### Exercise 8: Export the df to excel file"
   ]
  },
  {
   "cell_type": "code",
   "execution_count": 10,
   "metadata": {},
   "outputs": [
    {
     "name": "stdout",
     "output_type": "stream",
     "text": [
      "Requirement already satisfied: openpyxl in c:\\users\\rochit\\anaconda3\\lib\\site-packages\n",
      "Requirement already satisfied: jdcal in c:\\users\\rochit\\anaconda3\\lib\\site-packages (from openpyxl)\n",
      "Requirement already satisfied: et_xmlfile in c:\\users\\rochit\\anaconda3\\lib\\site-packages (from openpyxl)\n"
     ]
    },
    {
     "name": "stderr",
     "output_type": "stream",
     "text": [
      "You are using pip version 9.0.1, however version 19.0.3 is available.\n",
      "You should consider upgrading via the 'python -m pip install --upgrade pip' command.\n"
     ]
    }
   ],
   "source": [
    "!pip install openpyxl"
   ]
  },
  {
   "cell_type": "code",
   "execution_count": 11,
   "metadata": {},
   "outputs": [],
   "source": [
    "writer = pd.ExcelWriter('test_output.xlsx')\n",
    "df.to_excel(writer, \"Sheet1\")\n",
    "writer.save()"
   ]
  },
  {
   "cell_type": "markdown",
   "metadata": {},
   "source": [
    "### Exercise 9: Stacking URLs (to follow them at a later point)"
   ]
  },
  {
   "cell_type": "code",
   "execution_count": 12,
   "metadata": {},
   "outputs": [
    {
     "name": "stderr",
     "output_type": "stream",
     "text": [
      "C:\\Users\\ROCHIT\\Anaconda3\\lib\\site-packages\\bs4\\__init__.py:181: UserWarning: No parser was explicitly specified, so I'm using the best available HTML parser for this system (\"lxml\"). This usually isn't a problem, but if you run this code on another system, or in a different virtual environment, it may use a different parser and behave differently.\n",
      "\n",
      "The code that caused this warning is on line 193 of the file C:\\Users\\ROCHIT\\Anaconda3\\lib\\runpy.py. To get rid of this warning, change code that looks like this:\n",
      "\n",
      " BeautifulSoup(YOUR_MARKUP})\n",
      "\n",
      "to this:\n",
      "\n",
      " BeautifulSoup(YOUR_MARKUP, \"lxml\")\n",
      "\n",
      "  markup_type=markup_type))\n"
     ]
    }
   ],
   "source": [
    "fd = open(\"test.html\", \"r\")\n",
    "soup = BeautifulSoup(fd)\n",
    "\n",
    "lis = soup.find('ul').findAll('li')\n",
    "stack = []\n",
    "for li in lis:\n",
    "    a = li.find('a', href=True)\n",
    "    stack.append(a['href'])"
   ]
  },
  {
   "cell_type": "code",
   "execution_count": 13,
   "metadata": {},
   "outputs": [
    {
     "name": "stdout",
     "output_type": "stream",
     "text": [
      "['https://en.wikipedia.org/wiki/Entropy_(information_theory)', 'http://www.gutenberg.org/browse/scores/top', 'https://www.imdb.com/chart/top']\n"
     ]
    }
   ],
   "source": [
    "print(stack)"
   ]
  },
  {
   "cell_type": "code",
   "execution_count": null,
   "metadata": {},
   "outputs": [],
   "source": []
  }
 ],
 "metadata": {
  "kernelspec": {
   "display_name": "Python 3",
   "language": "python",
   "name": "python3"
  },
  "language_info": {
   "codemirror_mode": {
    "name": "ipython",
    "version": 3
   },
   "file_extension": ".py",
   "mimetype": "text/x-python",
   "name": "python",
   "nbconvert_exporter": "python",
   "pygments_lexer": "ipython3",
   "version": "3.6.3"
  }
 },
 "nbformat": 4,
 "nbformat_minor": 2
}
