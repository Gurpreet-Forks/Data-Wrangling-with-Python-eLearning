{
 "cells": [
  {
   "cell_type": "markdown",
   "metadata": {},
   "source": [
    "# Lesson 7: Advanced Web Scraping and Data Gathering\n",
    "## Topic 2: Read data from XML"
   ]
  },
  {
   "cell_type": "code",
   "execution_count": 1,
   "metadata": {},
   "outputs": [],
   "source": [
    "import xml.etree.ElementTree as ET"
   ]
  },
  {
   "cell_type": "markdown",
   "metadata": {},
   "source": [
    "### Exercise 11: Create some random data yourself to understand the XML data format better"
   ]
  },
  {
   "cell_type": "code",
   "execution_count": 2,
   "metadata": {},
   "outputs": [],
   "source": [
    "data = '''\n",
    "<person>\n",
    "  <name>Dave</name>\n",
    "  <surname>Piccardo</surname>\n",
    "  <phone type=\"intl\">\n",
    "     +1 742 101 4456\n",
    "   </phone>\n",
    "   <email hide=\"yes\">\n",
    "   dave.p@gmail.com</email>\n",
    "</person>'''"
   ]
  },
  {
   "cell_type": "code",
   "execution_count": 3,
   "metadata": {},
   "outputs": [
    {
     "name": "stdout",
     "output_type": "stream",
     "text": [
      "\n",
      "<person>\n",
      "  <name>Dave</name>\n",
      "  <surname>Piccardo</surname>\n",
      "  <phone type=\"intl\">\n",
      "     +1 742 101 4456\n",
      "   </phone>\n",
      "   <email hide=\"yes\">\n",
      "   dave.p@gmail.com</email>\n",
      "</person>\n"
     ]
    }
   ],
   "source": [
    "print(data)"
   ]
  },
  {
   "cell_type": "code",
   "execution_count": 4,
   "metadata": {},
   "outputs": [
    {
     "data": {
      "text/plain": [
       "str"
      ]
     },
     "execution_count": 4,
     "metadata": {},
     "output_type": "execute_result"
    }
   ],
   "source": [
    "type(data)"
   ]
  },
  {
   "cell_type": "markdown",
   "metadata": {},
   "source": [
    "### Exercise 12: Read the string data as an XML `Element` object "
   ]
  },
  {
   "cell_type": "code",
   "execution_count": 5,
   "metadata": {},
   "outputs": [],
   "source": [
    "tree = ET.fromstring(data)"
   ]
  },
  {
   "cell_type": "code",
   "execution_count": 6,
   "metadata": {},
   "outputs": [
    {
     "data": {
      "text/plain": [
       "xml.etree.ElementTree.Element"
      ]
     },
     "execution_count": 6,
     "metadata": {},
     "output_type": "execute_result"
    }
   ],
   "source": [
    "type(tree)"
   ]
  },
  {
   "cell_type": "markdown",
   "metadata": {},
   "source": [
    "### Exercise 13: Find various elements of data within the tree (element)"
   ]
  },
  {
   "cell_type": "code",
   "execution_count": 7,
   "metadata": {},
   "outputs": [
    {
     "name": "stdout",
     "output_type": "stream",
     "text": [
      "Name: Dave\n"
     ]
    }
   ],
   "source": [
    "# Print the name of the person\n",
    "print('Name:', tree.find('name').text)"
   ]
  },
  {
   "cell_type": "code",
   "execution_count": 8,
   "metadata": {},
   "outputs": [
    {
     "name": "stdout",
     "output_type": "stream",
     "text": [
      "Surname: Piccardo\n"
     ]
    }
   ],
   "source": [
    "# Print the surname\n",
    "print('Surname:', tree.find('surname').text)"
   ]
  },
  {
   "cell_type": "code",
   "execution_count": 9,
   "metadata": {},
   "outputs": [
    {
     "name": "stdout",
     "output_type": "stream",
     "text": [
      "Phone: +1 742 101 4456\n"
     ]
    }
   ],
   "source": [
    "# Print the phone number\n",
    "print('Phone:', tree.find('phone').text.strip())"
   ]
  },
  {
   "cell_type": "code",
   "execution_count": 10,
   "metadata": {},
   "outputs": [
    {
     "name": "stdout",
     "output_type": "stream",
     "text": [
      "Email hidden: yes\n",
      "Email: dave.p@gmail.com\n"
     ]
    }
   ],
   "source": [
    "# Print email status and the actual email\n",
    "print('Email hidden:', tree.find('email').get('hide'))\n",
    "print('Email:', tree.find('email').text.strip())"
   ]
  },
  {
   "cell_type": "markdown",
   "metadata": {},
   "source": [
    "### Exercise 14: Read from a local XML file (perhaps downloaded) into an `ElementTree` object"
   ]
  },
  {
   "cell_type": "code",
   "execution_count": 11,
   "metadata": {},
   "outputs": [],
   "source": [
    "tree2=ET.parse('xml1.xml')"
   ]
  },
  {
   "cell_type": "code",
   "execution_count": 12,
   "metadata": {},
   "outputs": [
    {
     "data": {
      "text/plain": [
       "xml.etree.ElementTree.ElementTree"
      ]
     },
     "execution_count": 12,
     "metadata": {},
     "output_type": "execute_result"
    }
   ],
   "source": [
    "type(tree2)"
   ]
  },
  {
   "cell_type": "markdown",
   "metadata": {},
   "source": [
    "### Exercise 15: How to 'traverse' the tree? Find the `root` and explore all `child` nodes and their `attributes`"
   ]
  },
  {
   "cell_type": "code",
   "execution_count": 13,
   "metadata": {},
   "outputs": [],
   "source": [
    "root=tree2.getroot()"
   ]
  },
  {
   "cell_type": "code",
   "execution_count": 14,
   "metadata": {},
   "outputs": [
    {
     "name": "stdout",
     "output_type": "stream",
     "text": [
      "Child tag: country | Child attribute: {'name': 'Liechtenstein'}\n",
      "Child tag: country | Child attribute: {'name': 'Singapore'}\n",
      "Child tag: country | Child attribute: {'name': 'Panama'}\n"
     ]
    }
   ],
   "source": [
    "for child in root:\n",
    "    print (\"Child tag:\",child.tag, \"| Child attribute:\",child.attrib)"
   ]
  },
  {
   "cell_type": "markdown",
   "metadata": {},
   "source": [
    "### Exercise 16: Use the `.text()` method to extract meaningful data"
   ]
  },
  {
   "cell_type": "code",
   "execution_count": 15,
   "metadata": {},
   "outputs": [
    {
     "data": {
      "text/plain": [
       "<Element 'gdppc' at 0x0000012FB63AEA98>"
      ]
     },
     "execution_count": 15,
     "metadata": {},
     "output_type": "execute_result"
    }
   ],
   "source": [
    "root[0][2]"
   ]
  },
  {
   "cell_type": "code",
   "execution_count": 16,
   "metadata": {},
   "outputs": [
    {
     "data": {
      "text/plain": [
       "'141100'"
      ]
     },
     "execution_count": 16,
     "metadata": {},
     "output_type": "execute_result"
    }
   ],
   "source": [
    "root[0][2].text"
   ]
  },
  {
   "cell_type": "code",
   "execution_count": 17,
   "metadata": {},
   "outputs": [
    {
     "data": {
      "text/plain": [
       "'gdppc'"
      ]
     },
     "execution_count": 17,
     "metadata": {},
     "output_type": "execute_result"
    }
   ],
   "source": [
    "root[0][2].tag"
   ]
  },
  {
   "cell_type": "code",
   "execution_count": 18,
   "metadata": {},
   "outputs": [
    {
     "data": {
      "text/plain": [
       "<Element 'country' at 0x0000012FB63AE688>"
      ]
     },
     "execution_count": 18,
     "metadata": {},
     "output_type": "execute_result"
    }
   ],
   "source": [
    "root[0]"
   ]
  },
  {
   "cell_type": "code",
   "execution_count": 19,
   "metadata": {},
   "outputs": [
    {
     "data": {
      "text/plain": [
       "'country'"
      ]
     },
     "execution_count": 19,
     "metadata": {},
     "output_type": "execute_result"
    }
   ],
   "source": [
    "root[0].tag"
   ]
  },
  {
   "cell_type": "code",
   "execution_count": 20,
   "metadata": {},
   "outputs": [
    {
     "data": {
      "text/plain": [
       "{'name': 'Liechtenstein'}"
      ]
     },
     "execution_count": 20,
     "metadata": {},
     "output_type": "execute_result"
    }
   ],
   "source": [
    "root[0].attrib"
   ]
  },
  {
   "cell_type": "markdown",
   "metadata": {},
   "source": [
    "### Exercise 17: Write a loop to extract and print the GDP/per capita information against each country "
   ]
  },
  {
   "cell_type": "code",
   "execution_count": 21,
   "metadata": {},
   "outputs": [
    {
     "name": "stdout",
     "output_type": "stream",
     "text": [
      "Liechtenstein: 141100\n",
      "Singapore: 59900\n",
      "Panama: 13600\n"
     ]
    }
   ],
   "source": [
    "for c in root:\n",
    "    country_name=c.attrib['name']\n",
    "    gdppc = int(c[2].text)\n",
    "    print(\"{}: {}\".format(country_name,gdppc))"
   ]
  },
  {
   "cell_type": "markdown",
   "metadata": {},
   "source": [
    "### Exercise 18: Find all the neighboring countries for each country and print them\n",
    "Note how to use `findall` and `attrib` together"
   ]
  },
  {
   "cell_type": "code",
   "execution_count": 22,
   "metadata": {},
   "outputs": [
    {
     "name": "stdout",
     "output_type": "stream",
     "text": [
      "Neighbors\n",
      "-------------------------\n",
      "Austria\n",
      "Switzerland\n",
      "\n",
      "\n",
      "Neighbors\n",
      "-------------------------\n",
      "Malaysia\n",
      "\n",
      "\n",
      "Neighbors\n",
      "-------------------------\n",
      "Costa Rica\n",
      "Colombia\n",
      "\n",
      "\n"
     ]
    }
   ],
   "source": [
    "for c in root:\n",
    "    ne=c.findall('neighbor') # Find all the neighbors\n",
    "    print(\"Neighbors\\n\"+\"-\"*25)\n",
    "    for i in ne: # Iterate over the neighbors and print their 'name' attribute\n",
    "        print(i.attrib['name'])\n",
    "    print('\\n')"
   ]
  },
  {
   "cell_type": "markdown",
   "metadata": {},
   "source": [
    "### Exercise 19: A simple demo of using XML data obtained by web scraping"
   ]
  },
  {
   "cell_type": "code",
   "execution_count": 23,
   "metadata": {},
   "outputs": [],
   "source": [
    "import urllib.request, urllib.parse, urllib.error"
   ]
  },
  {
   "cell_type": "code",
   "execution_count": 24,
   "metadata": {},
   "outputs": [],
   "source": [
    "serviceurl = 'http://www.recipepuppy.com/api/?'"
   ]
  },
  {
   "cell_type": "code",
   "execution_count": 25,
   "metadata": {},
   "outputs": [
    {
     "name": "stdout",
     "output_type": "stream",
     "text": [
      "Enter the name of a food item (enter 'quit' to quit): pizza\n"
     ]
    }
   ],
   "source": [
    "item = str(input('Enter the name of a food item (enter \\'quit\\' to quit): '))\n",
    "url = serviceurl + urllib.parse.urlencode({'q':item})+'&p=1&format=xml'\n",
    "uh = urllib.request.urlopen(url)"
   ]
  },
  {
   "cell_type": "code",
   "execution_count": 26,
   "metadata": {},
   "outputs": [
    {
     "name": "stdout",
     "output_type": "stream",
     "text": [
      "Retrieved 2881 characters\n"
     ]
    }
   ],
   "source": [
    "data = uh.read().decode()\n",
    "print('Retrieved', len(data), 'characters')\n",
    "tree3 = ET.fromstring(data)"
   ]
  },
  {
   "cell_type": "code",
   "execution_count": 27,
   "metadata": {},
   "outputs": [
    {
     "data": {
      "text/plain": [
       "xml.etree.ElementTree.Element"
      ]
     },
     "execution_count": 27,
     "metadata": {},
     "output_type": "execute_result"
    }
   ],
   "source": [
    "type(tree3)"
   ]
  },
  {
   "cell_type": "code",
   "execution_count": 28,
   "metadata": {},
   "outputs": [
    {
     "name": "stdout",
     "output_type": "stream",
     "text": [
      "\n",
      "\n",
      "\n",
      "\n",
      "BBQ Chicken Pizza\n",
      "http://www.recipezaar.com/BBQ-Chicken-Pizza-144689\n",
      "chicken, brown sugar, cayenne, garlic salt, green pepper, honey, italian cheese blend, salad dressing, margarine, molasses, onions, barbecue sauce, black pepper, prepared pizza crust, provolone cheese, ranch dressing, salt\n",
      "\n",
      "\n",
      "Basic Chicago-style Pizza Recipe\n",
      "http://www.grouprecipes.com/65487/basic-chicago-style-pizza.html\n",
      "pizza, vegetable oil, cornmeal, water, flour, sausage, provolone cheese, olive oil, tomato, yeast, pepperoni, salt, salt, sugar, basil, oregano\n",
      "\n",
      "\n",
      "BBQ'd Cheeseburger Pizza\n",
      "http://www.recipezaar.com/BBQd-Cheeseburger-Pizza-299376\n",
      "barbecue sauce, cheddar cheese, onions, tomato, dill pickle, dill relish, parsley, french dressing, garlic powder, ground beef, lettuce, mayonnaise, mozzarella cheese, pizza dough, mustard\n",
      "\n",
      "\n",
      "Healthy Italian Bread Sticks or Pizza Crust\n",
      "http://www.recipezaar.com/Healthy-Italian-Bread-Sticks-or-Pizza-Crust-252423\n",
      "brown sugar, garlic powder, italian seasoning, olive oil, onion powder, salt, flour, water, flour, yeast\n",
      "\n",
      "\n",
      "Bacon Cheeseburger Pizza\n",
      "http://www.recipezaar.com/Bacon-Cheeseburger-Pizza-205270\n",
      "bacon, black pepper, cheddar cheese, garlic, ground beef, mozzarella cheese, onions, parmesan cheese, pizza sauce, salt\n",
      "\n",
      "\n",
      "Cinnamon Pizza Sticks With Dipping Glaze\n",
      "http://www.recipezaar.com/Cinnamon-Pizza-Sticks-With-Dipping-Glaze-167598\n",
      "butter, cinnamon, pizza dough, sugar\n",
      "\n",
      "\n",
      "Gluten Free Pepperoni Pizza Quesadilla\n",
      "http://www.recipezaar.com/Gluten-Free-Pepperoni-Pizza-Quesadilla-302814\n",
      "mozzarella cheese, nonstick cooking spray, pizza sauce, tortilla, pepperoni\n",
      "\n",
      "\n",
      "Italian Escarole Pizza\n",
      "http://allrecipes.com/Recipe/Italian-Escarole-Pizza/Detail.aspx\n",
      "garlic, escarole, mozzarella cheese, olive oil, pizza sauce, salt\n",
      "\n",
      "\n",
      "Goat Cheese Arugula Pizza - No Red Sauce!\n",
      "http://allrecipes.com/Recipe/Goat-Cheese-Arugula-Pizza---No-Red-Sauce/Detail.aspx\n",
      "arugula, garlic, olive oil, pesto, roma tomato, pizza crust\n",
      "\n",
      "\n",
      "Easy Peezy Pizza Dough (Bread Machine Pizza Dough)\n",
      "http://www.recipezaar.com/EAZY-PEEZY-PIZZA-DOUGH-Bread-Machine-Pizza-Dough-35805\n",
      "bread flour, yeast, olive oil, salt, sugar, water, water\n"
     ]
    }
   ],
   "source": [
    "for elem in tree3.iter():\n",
    "    print(elem.text)"
   ]
  },
  {
   "cell_type": "code",
   "execution_count": 29,
   "metadata": {},
   "outputs": [
    {
     "name": "stdout",
     "output_type": "stream",
     "text": [
      "<?xml version=\"1.0\"?>\n",
      "<recipes>\n",
      "<recipe>\n",
      "<title>BBQ Chicken Pizza</title>\n",
      "<href>http://www.recipezaar.com/BBQ-Chicken-Pizza-144689</href>\n",
      "<ingredients>chicken, brown sugar, cayenne, garlic salt, green pepper, honey, italian cheese blend, salad dressing, margarine, molasses, onions, barbecue sauce, black pepper, prepared pizza crust, provolone cheese, ranch dressing, salt</ingredients>\n",
      "</recipe>\n",
      "<recipe>\n",
      "<title>Basic Chicago-style Pizza Recipe</title>\n",
      "<href>http://www.grouprecipes.com/65487/basic-chicago-style-pizza.html</href>\n",
      "<ingredients>pizza, vegetable oil, cornmeal, water, flour, sausage, provolone cheese, olive oil, tomato, yeast, pepperoni, salt, salt, sugar, basil, oregano</ingredients>\n",
      "</recipe>\n",
      "<recipe>\n",
      "<title>BBQ'd Cheeseburger Pizza</title>\n",
      "<href>http://www.recipezaar.com/BBQd-Cheeseburger-Pizza-299376</href>\n",
      "<ingredients>barbecue sauce, cheddar cheese, onions, tomato, dill pickle, dill relish, parsley, french dressing, garlic powder, ground beef, lettuce, mayonnaise, mozzarella cheese, pizza dough, mustard</ingredients>\n",
      "</recipe>\n",
      "<recipe>\n",
      "<title>Healthy Italian Bread Sticks or Pizza Crust</title>\n",
      "<href>http://www.recipezaar.com/Healthy-Italian-Bread-Sticks-or-Pizza-Crust-252423</href>\n",
      "<ingredients>brown sugar, garlic powder, italian seasoning, olive oil, onion powder, salt, flour, water, flour, yeast</ingredients>\n",
      "</recipe>\n",
      "<recipe>\n",
      "<title>Bacon Cheeseburger Pizza</title>\n",
      "<href>http://www.recipezaar.com/Bacon-Cheeseburger-Pizza-205270</href>\n",
      "<ingredients>bacon, black pepper, cheddar cheese, garlic, ground beef, mozzarella cheese, onions, parmesan cheese, pizza sauce, salt</ingredients>\n",
      "</recipe>\n",
      "<recipe>\n",
      "<title>Cinnamon Pizza Sticks With Dipping Glaze</title>\n",
      "<href>http://www.recipezaar.com/Cinnamon-Pizza-Sticks-With-Dipping-Glaze-167598</href>\n",
      "<ingredients>butter, cinnamon, pizza dough, sugar</ingredients>\n",
      "</recipe>\n",
      "<recipe>\n",
      "<title>Gluten Free Pepperoni Pizza Quesadilla</title>\n",
      "<href>http://www.recipezaar.com/Gluten-Free-Pepperoni-Pizza-Quesadilla-302814</href>\n",
      "<ingredients>mozzarella cheese, nonstick cooking spray, pizza sauce, tortilla, pepperoni</ingredients>\n",
      "</recipe>\n",
      "<recipe>\n",
      "<title>Italian Escarole Pizza</title>\n",
      "<href>http://allrecipes.com/Recipe/Italian-Escarole-Pizza/Detail.aspx</href>\n",
      "<ingredients>garlic, escarole, mozzarella cheese, olive oil, pizza sauce, salt</ingredients>\n",
      "</recipe>\n",
      "<recipe>\n",
      "<title>Goat Cheese Arugula Pizza - No Red Sauce!</title>\n",
      "<href>http://allrecipes.com/Recipe/Goat-Cheese-Arugula-Pizza---No-Red-Sauce/Detail.aspx</href>\n",
      "<ingredients>arugula, garlic, olive oil, pesto, roma tomato, pizza crust</ingredients>\n",
      "</recipe>\n",
      "<recipe>\n",
      "<title>Easy Peezy Pizza Dough (Bread Machine Pizza Dough)</title>\n",
      "<href>http://www.recipezaar.com/EAZY-PEEZY-PIZZA-DOUGH-Bread-Machine-Pizza-Dough-35805</href>\n",
      "<ingredients>bread flour, yeast, olive oil, salt, sugar, water, water</ingredients>\n",
      "</recipe>\n",
      "</recipes>\n"
     ]
    }
   ],
   "source": [
    "print(data)"
   ]
  },
  {
   "cell_type": "code",
   "execution_count": 30,
   "metadata": {},
   "outputs": [
    {
     "name": "stdout",
     "output_type": "stream",
     "text": [
      "Receipe Link for: BBQ Chicken Pizza\n",
      "http://www.recipezaar.com/BBQ-Chicken-Pizza-144689\n",
      "----------------------------------------------------------------------------------------------------\n",
      "Receipe Link for: Basic Chicago-style Pizza Recipe\n",
      "http://www.grouprecipes.com/65487/basic-chicago-style-pizza.html\n",
      "----------------------------------------------------------------------------------------------------\n",
      "Receipe Link for: BBQ'd Cheeseburger Pizza\n",
      "http://www.recipezaar.com/BBQd-Cheeseburger-Pizza-299376\n",
      "----------------------------------------------------------------------------------------------------\n",
      "Receipe Link for: Healthy Italian Bread Sticks or Pizza Crust\n",
      "http://www.recipezaar.com/Healthy-Italian-Bread-Sticks-or-Pizza-Crust-252423\n",
      "----------------------------------------------------------------------------------------------------\n",
      "Receipe Link for: Bacon Cheeseburger Pizza\n",
      "http://www.recipezaar.com/Bacon-Cheeseburger-Pizza-205270\n",
      "----------------------------------------------------------------------------------------------------\n",
      "Receipe Link for: Cinnamon Pizza Sticks With Dipping Glaze\n",
      "http://www.recipezaar.com/Cinnamon-Pizza-Sticks-With-Dipping-Glaze-167598\n",
      "----------------------------------------------------------------------------------------------------\n",
      "Receipe Link for: Gluten Free Pepperoni Pizza Quesadilla\n",
      "http://www.recipezaar.com/Gluten-Free-Pepperoni-Pizza-Quesadilla-302814\n",
      "----------------------------------------------------------------------------------------------------\n",
      "Receipe Link for: Italian Escarole Pizza\n",
      "http://allrecipes.com/Recipe/Italian-Escarole-Pizza/Detail.aspx\n",
      "----------------------------------------------------------------------------------------------------\n",
      "Receipe Link for: Goat Cheese Arugula Pizza - No Red Sauce!\n",
      "http://allrecipes.com/Recipe/Goat-Cheese-Arugula-Pizza---No-Red-Sauce/Detail.aspx\n",
      "----------------------------------------------------------------------------------------------------\n",
      "Receipe Link for: Easy Peezy Pizza Dough (Bread Machine Pizza Dough)\n",
      "http://www.recipezaar.com/EAZY-PEEZY-PIZZA-DOUGH-Bread-Machine-Pizza-Dough-35805\n",
      "----------------------------------------------------------------------------------------------------\n"
     ]
    }
   ],
   "source": [
    "for e in tree3.iter():\n",
    "    h=e.find('href')\n",
    "    t=e.find('title')\n",
    "    if h!=None and t!=None:\n",
    "        print(\"Receipe Link for:\",t.text)\n",
    "        print(h.text)\n",
    "        print(\"-\"*100)"
   ]
  },
  {
   "cell_type": "code",
   "execution_count": null,
   "metadata": {},
   "outputs": [],
   "source": []
  },
  {
   "cell_type": "code",
   "execution_count": null,
   "metadata": {},
   "outputs": [],
   "source": []
  }
 ],
 "metadata": {
  "kernelspec": {
   "display_name": "Python 3",
   "language": "python",
   "name": "python3"
  },
  "language_info": {
   "codemirror_mode": {
    "name": "ipython",
    "version": 3
   },
   "file_extension": ".py",
   "mimetype": "text/x-python",
   "name": "python",
   "nbconvert_exporter": "python",
   "pygments_lexer": "ipython3",
   "version": "3.6.3"
  },
  "latex_envs": {
   "LaTeX_envs_menu_present": true,
   "autoclose": false,
   "autocomplete": true,
   "bibliofile": "biblio.bib",
   "cite_by": "apalike",
   "current_citInitial": 1,
   "eqLabelWithNumbers": true,
   "eqNumInitial": 1,
   "hotkeys": {
    "equation": "Ctrl-E",
    "itemize": "Ctrl-I"
   },
   "labels_anchors": false,
   "latex_user_defs": false,
   "report_style_numbering": false,
   "user_envs_cfg": false
  }
 },
 "nbformat": 4,
 "nbformat_minor": 2
}
