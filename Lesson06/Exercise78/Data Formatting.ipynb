{
 "cells": [
  {
   "cell_type": "markdown",
   "metadata": {},
   "source": [
    "### Exercise 1 using the % operator to format"
   ]
  },
  {
   "cell_type": "code",
   "execution_count": 3,
   "metadata": {},
   "outputs": [
    {
     "ename": "FileNotFoundError",
     "evalue": "[Errno 2] No such file or directory: 'combinded_data.csv'",
     "output_type": "error",
     "traceback": [
      "\u001b[1;31m---------------------------------------------------------------------------\u001b[0m",
      "\u001b[1;31mFileNotFoundError\u001b[0m                         Traceback (most recent call last)",
      "\u001b[1;32m<ipython-input-3-c768275eb985>\u001b[0m in \u001b[0;36m<module>\u001b[1;34m()\u001b[0m\n\u001b[0;32m      1\u001b[0m \u001b[1;32mfrom\u001b[0m \u001b[0mcsv\u001b[0m \u001b[1;32mimport\u001b[0m \u001b[0mDictReader\u001b[0m\u001b[1;33m\u001b[0m\u001b[0m\n\u001b[0;32m      2\u001b[0m \u001b[0mraw_data\u001b[0m \u001b[1;33m=\u001b[0m \u001b[1;33m[\u001b[0m\u001b[1;33m]\u001b[0m\u001b[1;33m\u001b[0m\u001b[0m\n\u001b[1;32m----> 3\u001b[1;33m \u001b[1;32mwith\u001b[0m \u001b[0mopen\u001b[0m\u001b[1;33m(\u001b[0m\u001b[1;34m\"combinded_data.csv\"\u001b[0m\u001b[1;33m,\u001b[0m \u001b[1;34m\"rt\"\u001b[0m\u001b[1;33m)\u001b[0m \u001b[1;32mas\u001b[0m \u001b[0mfd\u001b[0m\u001b[1;33m:\u001b[0m\u001b[1;33m\u001b[0m\u001b[0m\n\u001b[0m\u001b[0;32m      4\u001b[0m     \u001b[0mdata_rows\u001b[0m \u001b[1;33m=\u001b[0m \u001b[0mDictReader\u001b[0m\u001b[1;33m(\u001b[0m\u001b[0mfd\u001b[0m\u001b[1;33m)\u001b[0m\u001b[1;33m\u001b[0m\u001b[0m\n\u001b[0;32m      5\u001b[0m     \u001b[1;32mfor\u001b[0m \u001b[0mdata\u001b[0m \u001b[1;32min\u001b[0m \u001b[0mdata_rows\u001b[0m\u001b[1;33m:\u001b[0m\u001b[1;33m\u001b[0m\u001b[0m\n",
      "\u001b[1;31mFileNotFoundError\u001b[0m: [Errno 2] No such file or directory: 'combinded_data.csv'"
     ]
    }
   ],
   "source": [
    "from csv import DictReader\n",
    "raw_data = []\n",
    "with open(\"combinded_data.csv\", \"rt\") as fd:\n",
    "    data_rows = DictReader(fd)\n",
    "    for data in data_rows:\n",
    "        raw_data.append(dict(data))"
   ]
  },
  {
   "cell_type": "code",
   "execution_count": null,
   "metadata": {},
   "outputs": [],
   "source": [
    "raw_data"
   ]
  },
  {
   "cell_type": "code",
   "execution_count": 2,
   "metadata": {},
   "outputs": [],
   "source": [
    "for data in raw_data:\n",
    "    report_str = \"\"\"%s is %s years old and is %s meter tall weiging about %s kg.\\n\n",
    "    Has a hsitory of family illness: %s.\\n\n",
    "    Presently suffering from a heart disease: %s\n",
    "    \"\"\" % (data[\"Name\"], data[\"Age\"], data[\"Height\"], data[\"Weight\"], data[\"Disease_history\"], data[\"Heart_problem\"])\n",
    "    print(report_str)"
   ]
  },
  {
   "cell_type": "markdown",
   "metadata": {},
   "source": [
    "### Exercise 2 (using the 'format' statement)"
   ]
  },
  {
   "cell_type": "code",
   "execution_count": 23,
   "metadata": {},
   "outputs": [
    {
     "name": "stdout",
     "output_type": "stream",
     "text": [
      "Bob is 23.0 years old and is 1.7 meter tall weiging about 70 kg.\n",
      "\n",
      "    Has a hsitory of family illness: N.\n",
      "\n",
      "    Presently suffering from a heart disease: N\n",
      "    \n",
      "Alex is 45 years old and is 1.61 meter tall weiging about 61 kg.\n",
      "\n",
      "    Has a hsitory of family illness: Y.\n",
      "\n",
      "    Presently suffering from a heart disease: N\n",
      "    \n",
      "George is 12.5 years old and is 1.4 meter tall weiging about 40 kg.\n",
      "\n",
      "    Has a hsitory of family illness: N.\n",
      "\n",
      "    Presently suffering from a heart disease: \n",
      "    \n",
      "Alice is 34 years old and is 1.56 meter tall weiging about 51 kg.\n",
      "\n",
      "    Has a hsitory of family illness: N.\n",
      "\n",
      "    Presently suffering from a heart disease: Y\n",
      "    \n"
     ]
    }
   ],
   "source": [
    "for data in raw_data:\n",
    "    report_str = \"\"\"{} is {} years old and is {} meter tall weiging about {} kg.\\n\n",
    "    Has a hsitory of family illness: {}.\\n\n",
    "    Presently suffering from a heart disease: {}\n",
    "    \"\"\".format(data[\"Name\"], data[\"Age\"], data[\"Height\"], data[\"Weight\"], data[\"Disease_history\"], data[\"Heart_problem\"])\n",
    "    print(report_str)"
   ]
  },
  {
   "cell_type": "markdown",
   "metadata": {},
   "source": [
    "### Exercise 3 (Naming the variables inside the string representation)"
   ]
  },
  {
   "cell_type": "code",
   "execution_count": 25,
   "metadata": {},
   "outputs": [
    {
     "name": "stdout",
     "output_type": "stream",
     "text": [
      "Bob is 23.0 years old and is 1.7 meter tall weiging about 70 kg.\n",
      "\n",
      "    Has a hsitory of family illness: N.\n",
      "\n",
      "    Presently suffering from a heart disease: N\n",
      "    \n",
      "Alex is 45 years old and is 1.61 meter tall weiging about 61 kg.\n",
      "\n",
      "    Has a hsitory of family illness: Y.\n",
      "\n",
      "    Presently suffering from a heart disease: N\n",
      "    \n",
      "George is 12.5 years old and is 1.4 meter tall weiging about 40 kg.\n",
      "\n",
      "    Has a hsitory of family illness: N.\n",
      "\n",
      "    Presently suffering from a heart disease: \n",
      "    \n",
      "Alice is 34 years old and is 1.56 meter tall weiging about 51 kg.\n",
      "\n",
      "    Has a hsitory of family illness: N.\n",
      "\n",
      "    Presently suffering from a heart disease: Y\n",
      "    \n"
     ]
    }
   ],
   "source": [
    "for data in raw_data:\n",
    "    report_str = \"\"\"{Name} is {Age} years old and is {Height} meter tall weiging about {Weight} kg.\\n\n",
    "    Has a hsitory of family illness: {Disease_history}.\\n\n",
    "    Presently suffering from a heart disease: {Heart_problem}\n",
    "    \"\"\".format(**data)\n",
    "    print(report_str)"
   ]
  },
  {
   "cell_type": "markdown",
   "metadata": {},
   "source": [
    "### Exercise 4 (Various conversion tricks with format)"
   ]
  },
  {
   "cell_type": "code",
   "execution_count": 30,
   "metadata": {},
   "outputs": [
    {
     "name": "stdout",
     "output_type": "stream",
     "text": [
      "The binary representation of 42 is - 101010\n"
     ]
    }
   ],
   "source": [
    "original_number = 42\n",
    "print(\"The binary representation of 42 is - {0:b}\".format(original_number))"
   ]
  },
  {
   "cell_type": "code",
   "execution_count": 31,
   "metadata": {},
   "outputs": [
    {
     "name": "stdout",
     "output_type": "stream",
     "text": [
      "            I am at the center            \n"
     ]
    }
   ],
   "source": [
    "print(\"{:^42}\".format(\"I am at the center\"))"
   ]
  },
  {
   "cell_type": "code",
   "execution_count": 33,
   "metadata": {},
   "outputs": [
    {
     "name": "stdout",
     "output_type": "stream",
     "text": [
      "============I am at the center============\n"
     ]
    }
   ],
   "source": [
    "print(\"{:=^42}\".format(\"I am at the center\"))"
   ]
  },
  {
   "cell_type": "markdown",
   "metadata": {},
   "source": [
    "### Exercise 5 (Date formatting)"
   ]
  },
  {
   "cell_type": "code",
   "execution_count": 34,
   "metadata": {},
   "outputs": [],
   "source": [
    "from datetime import datetime"
   ]
  },
  {
   "cell_type": "code",
   "execution_count": 35,
   "metadata": {},
   "outputs": [
    {
     "name": "stdout",
     "output_type": "stream",
     "text": [
      "The present datetime is 2018-10-14 09:57:15\n"
     ]
    }
   ],
   "source": [
    "print(\"The present datetime is {:%Y-%m-%d %H:%M:%S}\".format(datetime.utcnow()))"
   ]
  },
  {
   "cell_type": "code",
   "execution_count": null,
   "metadata": {},
   "outputs": [],
   "source": []
  }
 ],
 "metadata": {
  "kernelspec": {
   "display_name": "Python 3",
   "language": "python",
   "name": "python3"
  }
 },
 "nbformat": 4,
 "nbformat_minor": 2
}
